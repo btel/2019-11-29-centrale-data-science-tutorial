{
 "cells": [
  {
   "cell_type": "markdown",
   "metadata": {},
   "source": [
    "# 2 Introduction to machine learning"
   ]
  },
  {
   "cell_type": "markdown",
   "metadata": {},
   "source": [
    "## 2.1 Data preprocessing\n",
    "\n",
    "* Getting data from kaggle.com \n",
    "* data import\n",
    "* DataFrame\n",
    "\n",
    "Download data from https://tinyurl.com/tbjuvka"
   ]
  },
  {
   "cell_type": "markdown",
   "metadata": {},
   "source": [
    "### Import and explore data"
   ]
  },
  {
   "cell_type": "markdown",
   "metadata": {},
   "source": [
    "### Fit the data with our custom linear regression model"
   ]
  },
  {
   "cell_type": "markdown",
   "metadata": {},
   "source": [
    "**Question**: What is the chance level accuracy?\n",
    "\n",
    "**Exercise**: Try finding the column/threshold that gives the best prediction.\n",
    "\n",
    "**Exercise**: Name all categorical and numerical columns in the titanic data frame.\n",
    "\n",
    "**Exercise**: Count the number of rows with missing data."
   ]
  },
  {
   "cell_type": "markdown",
   "metadata": {},
   "source": [
    "## 2.2 Logistic regression\n",
    "\n",
    "* scikit-learn library\n",
    "* fit/transform methods"
   ]
  },
  {
   "cell_type": "markdown",
   "metadata": {},
   "source": [
    "### Logistic regression in scikit-learn"
   ]
  },
  {
   "cell_type": "code",
   "execution_count": 4,
   "metadata": {},
   "outputs": [
    {
     "name": "stderr",
     "output_type": "stream",
     "text": [
      "/home/bartosz/.pyenv/versions/3.7.4/lib/python3.7/importlib/_bootstrap.py:219: RuntimeWarning: numpy.ufunc size changed, may indicate binary incompatibility. Expected 192 from C header, got 216 from PyObject\n",
      "  return f(*args, **kwds)\n"
     ]
    }
   ],
   "source": [
    "from sklearn.linear_model import LogisticRegression"
   ]
  },
  {
   "cell_type": "markdown",
   "metadata": {},
   "source": [
    "**Exercise**: Try calculating the precision metrics.\n",
    "\n",
    "**Exercise**: Investigate the influence of the `C` parameter on the prediction.\n",
    "\n"
   ]
  },
  {
   "cell_type": "markdown",
   "metadata": {},
   "source": [
    "### Multiple featues"
   ]
  },
  {
   "cell_type": "markdown",
   "metadata": {},
   "source": [
    "**Exercise**: Use the `LinearRegression` class from scikit-learn  to fit the `a`, `b` and `c` coefficients of the following function:\n",
    "\n",
    "`y = a * x1 + b * x2 + c`\n",
    "\n",
    "where \n",
    "\n",
    "```\n",
    "x1 = [1., 5., 2.]\n",
    "x2 = [3., 4., 4.]\n",
    "y  = [4.8, 13.3, 7.1]\n",
    "```"
   ]
  },
  {
   "cell_type": "markdown",
   "metadata": {},
   "source": [
    "## 2.3 Cross-validation\n",
    "\n",
    "* training, validation and tests sets\n",
    "* validation splits"
   ]
  },
  {
   "cell_type": "code",
   "execution_count": 59,
   "metadata": {},
   "outputs": [],
   "source": [
    "from sklearn.model_selection import train_test_split"
   ]
  },
  {
   "cell_type": "markdown",
   "metadata": {},
   "source": [
    "## 2.4 Feature engineering\n",
    "\n",
    "* one-hot encoding\n",
    "* value imputation?"
   ]
  },
  {
   "cell_type": "code",
   "execution_count": 62,
   "metadata": {},
   "outputs": [],
   "source": [
    "from sklearn.preprocessing import OneHotEncoder"
   ]
  },
  {
   "cell_type": "markdown",
   "metadata": {},
   "source": [
    "**Question**: The code above produces biased results. Can you tell why? "
   ]
  },
  {
   "cell_type": "markdown",
   "metadata": {},
   "source": [
    "## 2.5 Putting it all together\n",
    "\n",
    "* pipelines"
   ]
  },
  {
   "cell_type": "code",
   "execution_count": 68,
   "metadata": {},
   "outputs": [],
   "source": [
    "from sklearn.pipeline import make_pipeline\n",
    "from sklearn.compose import make_column_transformer, ColumnTransformer\n",
    "\n",
    "from sklearn.preprocessing import StandardScaler\n",
    "from sklearn.impute import SimpleImputer"
   ]
  },
  {
   "cell_type": "code",
   "execution_count": 71,
   "metadata": {},
   "outputs": [],
   "source": [
    "df_clean = df[['Survived', 'Age', 'Pclass', 'Fare', 'Embarked', 'Sex', 'SibSp']].dropna()\n",
    "target = df_clean['Survived']\n",
    "features = df_clean.drop(columns=['Survived'])"
   ]
  },
  {
   "cell_type": "code",
   "execution_count": 72,
   "metadata": {},
   "outputs": [],
   "source": [
    "transformer = ColumnTransformer(\n",
    "  [('categorical', OneHotEncoder(), ['Sex', 'Embarked', 'Pclass']),\n",
    "   ('numerical', StandardScaler(), ['Age', 'Fare'])], \n",
    "  remainder='passthrough')\n",
    "\n",
    "estimator = make_pipeline(transformer, LogisticRegression())"
   ]
  },
  {
   "cell_type": "code",
   "execution_count": 73,
   "metadata": {},
   "outputs": [],
   "source": [
    "train_features, validation_features, train_target, validation_target = train_test_split(features, target)\n",
    "\n",
    "estimator.fit(train_features, train_target).score(validation_features, validation_target)"
   ]
  },
  {
   "cell_type": "markdown",
   "metadata": {},
   "source": [
    "**Exercise**: Add imputation of missing values to the pipeline. Check out `sklearn.impute`."
   ]
  }
 ],
 "metadata": {
  "kernelspec": {
   "display_name": "Python 3",
   "language": "python",
   "name": "python3"
  },
  "language_info": {
   "codemirror_mode": {
    "name": "ipython",
    "version": 3
   },
   "file_extension": ".py",
   "mimetype": "text/x-python",
   "name": "python",
   "nbconvert_exporter": "python",
   "pygments_lexer": "ipython3",
   "version": "3.7.4"
  }
 },
 "nbformat": 4,
 "nbformat_minor": 2
}
